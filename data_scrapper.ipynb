{
 "cells": [
  {
   "cell_type": "code",
   "execution_count": 2,
   "metadata": {},
   "outputs": [],
   "source": [
    "import numpy as np\n",
    "import codecs\n",
    "import re\n",
    "import time"
   ]
  },
  {
   "cell_type": "code",
   "execution_count": 3,
   "metadata": {},
   "outputs": [
    {
     "name": "stdout",
     "output_type": "stream",
     "text": [
      "<codecs.StreamReaderWriter object at 0x0000022ECEA9C880>\n"
     ]
    }
   ],
   "source": [
    "with codecs.open('22-cdd6731e2b71bfb1.js', encoding='utf-8') as file_object:\n",
    "    for line in file_object:\n",
    "        print(file_object)"
   ]
  },
  {
   "cell_type": "code",
   "execution_count": 4,
   "metadata": {},
   "outputs": [],
   "source": [
    "raw_data = ''\n",
    "\n",
    "with codecs.open('22-cdd6731e2b71bfb1.js', encoding='utf-8') as f:\n",
    "   #lines = f.readlines()\n",
    "   for line in f:\n",
    "      raw_data = raw_data + str(line)\n",
    "\n",
    "#raw_data.encode('utf-8')\n",
    "#raw_data.encode(\"windows-1252\").decode(\"utf-8\")"
   ]
  },
  {
   "cell_type": "code",
   "execution_count": 5,
   "metadata": {},
   "outputs": [
    {
     "name": "stdout",
     "output_type": "stream",
     "text": [
      "['nieve', 'hueso', 'titan', 'flujo', 'disco', 'raz\\\\xf3n', 'mural', 'abril', 'vejez', 'falso', 'ca\\\\xf1\\\\xf3n', 'obeso', 'metal', 'avena', 'rubia']\n"
     ]
    }
   ],
   "source": [
    "rule = r'(?<=solution:\").+?(?=\",)'\n",
    "#r'.*?solution:\"(.*)\",encrypted:'\n",
    "res = re.findall(rule, raw_data)\n",
    "print(res[:15])"
   ]
  },
  {
   "cell_type": "code",
   "execution_count": 8,
   "metadata": {},
   "outputs": [
    {
     "name": "stdout",
     "output_type": "stream",
     "text": [
      "['nieve', 'hueso', 'titan', 'flujo', 'disco', 'razon', 'mural', 'abril', 'vejez', 'falso', 'cañon', 'obeso', 'metal', 'avena', 'rubia']\n"
     ]
    }
   ],
   "source": [
    "clean_list=[]\n",
    "for i, word in enumerate(res):\n",
    "    clean_list.append(word.replace('\\\\xf1', r'ñ').replace('\\\\xe1', r'a').replace('\\\\xe9', r'e').replace('\\\\xed', r'i').replace('\\\\xf3', r'o').replace('\\\\xfa', r'u'))\n",
    "print(clean_list[:15])"
   ]
  },
  {
   "cell_type": "code",
   "execution_count": 11,
   "metadata": {},
   "outputs": [
    {
     "data": {
      "text/plain": [
       "'...\\n>>> with open(\"test\", \"r\") as fp:\\n...     b = json.load(fp)'"
      ]
     },
     "execution_count": 11,
     "metadata": {},
     "output_type": "execute_result"
    }
   ],
   "source": [
    "import json\n",
    "name = 'wordle_clean_list.json'\n",
    "\n",
    "with open(name, \"w\") as fp:\n",
    "    json.dump(clean_list, fp)\n",
    "\n"
   ]
  },
  {
   "cell_type": "code",
   "execution_count": 12,
   "metadata": {},
   "outputs": [
    {
     "data": {
      "text/plain": [
       "864"
      ]
     },
     "execution_count": 12,
     "metadata": {},
     "output_type": "execute_result"
    }
   ],
   "source": [
    "len(clean_list)"
   ]
  },
  {
   "cell_type": "code",
   "execution_count": null,
   "metadata": {},
   "outputs": [],
   "source": []
  }
 ],
 "metadata": {
  "kernelspec": {
   "display_name": "Python 3.8.5 ('base')",
   "language": "python",
   "name": "python3"
  },
  "language_info": {
   "codemirror_mode": {
    "name": "ipython",
    "version": 3
   },
   "file_extension": ".py",
   "mimetype": "text/x-python",
   "name": "python",
   "nbconvert_exporter": "python",
   "pygments_lexer": "ipython3",
   "version": "3.8.5"
  },
  "orig_nbformat": 4,
  "vscode": {
   "interpreter": {
    "hash": "14b7dca5faed4131a3cb0f251ab15fa3168768bf6c6264a378d9f1d729e51fb7"
   }
  }
 },
 "nbformat": 4,
 "nbformat_minor": 2
}
