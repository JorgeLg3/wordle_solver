{
 "cells": [
  {
   "cell_type": "code",
   "execution_count": 21,
   "metadata": {},
   "outputs": [],
   "source": [
    "import numpy as np\n",
    "import codecs\n",
    "import re"
   ]
  },
  {
   "cell_type": "code",
   "execution_count": 16,
   "metadata": {},
   "outputs": [],
   "source": [
    "abc_es = ['a', 'b', 'c', 'd', 'e', 'f', 'g', 'h', 'i', 'j', 'k', 'l', 'm', 'n', 'ñ', 'o', 'p', 'q', 'r', 's', 't', 'u', 'v', 'w', 'x', 'y', 'z']\n",
    "\n",
    "count_dict = {'overall' : {}, '1': {}, '2': {}, '3': {}, '4': {}, '5': {}}"
   ]
  },
  {
   "cell_type": "code",
   "execution_count": 18,
   "metadata": {},
   "outputs": [],
   "source": [
    "wordle_list = []\n",
    "\n",
    "with codecs.open('wordle_es_list.txt', encoding='utf-8') as file_object:\n",
    "    for line in file_object:\n",
    "        line_s = line.strip()\n",
    "        wordle_list.append(line_s)\n",
    "        for i in range(len(line_s)): \n",
    "            #if line[i] in abc_es: # avoid jump line, and final line chars\n",
    "            count_dict['overall'][line_s[i]] = count_dict['overall'].get(line_s[i], 0) + 1\n",
    "            count_dict[str(i+1)][line_s[i]] = count_dict[str(i+1)].get(line_s[i], 0) + 1"
   ]
  },
  {
   "cell_type": "code",
   "execution_count": 19,
   "metadata": {},
   "outputs": [
    {
     "name": "stdout",
     "output_type": "stream",
     "text": [
      "a 8976\n",
      "b 1299\n",
      "c 2391\n",
      "o 5524\n",
      "d 1315\n",
      "i 3598\n",
      "s 3676\n",
      "j 814\n",
      "e 5497\n",
      "l 2783\n",
      "n 2823\n",
      "p 1631\n",
      "t 2175\n",
      "ñ 374\n",
      "r 3787\n",
      "f 774\n",
      "g 1066\n",
      "y 442\n",
      "z 624\n",
      "u 2501\n",
      "m 1645\n",
      "h 768\n",
      "v 694\n",
      "x 133\n",
      "q 116\n",
      "k 55\n",
      "w 14\n"
     ]
    }
   ],
   "source": [
    "for key, value in count_dict['overall'].items():\n",
    "    print(key, value)"
   ]
  },
  {
   "cell_type": "code",
   "execution_count": 5,
   "metadata": {},
   "outputs": [],
   "source": [
    "def sort_dict(dictionary):\n",
    "    return dict(sorted(dictionary.items(), key=lambda item: item[1], reverse=True))"
   ]
  },
  {
   "cell_type": "code",
   "execution_count": 8,
   "metadata": {},
   "outputs": [
    {
     "name": "stdout",
     "output_type": "stream",
     "text": [
      "overall {'a': 8976, 'b': 1299, 'c': 2391, 'o': 5524, 'd': 1315, 'i': 3598, 's': 3676, 'j': 814, 'e': 5497, 'l': 2783, 'n': 2823, 'p': 1631, 't': 2175, 'ñ': 374, 'r': 3787, 'f': 774, 'g': 1066, 'y': 442, 'z': 624, 'u': 2501, 'm': 1645, 'h': 768, 'v': 694, 'x': 133, 'q': 116, 'k': 55, 'w': 14}\n",
      "1 {'a': 1342, 'b': 587, 'c': 1126, 'd': 368, 'e': 273, 'f': 467, 'g': 409, 'h': 370, 'i': 151, 'j': 283, 'k': 20, 'l': 551, 'm': 730, 'n': 290, 'o': 373, 'p': 887, 'q': 49, 'r': 645, 's': 580, 't': 765, 'u': 179, 'v': 340, 'w': 6, 'x': 6, 'y': 118, 'z': 150, 'ñ': 34}\n",
      "2 {'b': 118, 'c': 158, 'd': 92, 'e': 1371, 'f': 61, 'g': 58, 'h': 183, 'i': 1359, 'j': 68, 'l': 427, 'm': 145, 'n': 211, 'o': 1564, 'p': 136, 'q': 6, 'r': 750, 's': 190, 't': 149, 'u': 1444, 'v': 86, 'x': 39, 'y': 33, 'z': 54, 'ñ': 52, 'a': 2340, 'k': 2, 'w': 3}\n",
      "3 {'a': 834, 'e': 777, 'i': 808, 'o': 490, 'r': 1095, 's': 583, 'u': 526, 'c': 639, 'h': 56, 'l': 845, 'n': 780, 't': 594, 'm': 457, 'v': 128, 'd': 349, 'b': 359, 'f': 174, 'g': 329, 'j': 272, 'p': 366, 'z': 174, 'q': 61, 'y': 136, 'ñ': 205, 'x': 53, 'w': 1, 'k': 8}\n",
      "4 {'b': 229, 'c': 448, 'd': 474, 'j': 185, 'l': 601, 'n': 398, 'o': 922, 'p': 237, 's': 336, 't': 627, 'ñ': 83, 'a': 1859, 'f': 68, 'g': 267, 'y': 64, 'z': 153, 'e': 1590, 'i': 981, 'r': 657, 'm': 297, 'h': 149, 'u': 308, 'v': 140, 'x': 9, 'w': 4, 'k': 13}\n",
      "5 {'a': 2601, 'o': 2175, 'i': 299, 's': 1987, 'e': 1486, 'r': 640, 'n': 1144, 'l': 359, 't': 40, 'y': 91, 'z': 93, 'c': 20, 'u': 44, 'm': 16, 'j': 6, 'd': 32, 'h': 10, 'x': 26, 'k': 12, 'p': 5, 'g': 3, 'b': 6, 'f': 4}\n"
     ]
    }
   ],
   "source": [
    "for key, value in count_dict.items():\n",
    "    print(key, value)"
   ]
  },
  {
   "cell_type": "code",
   "execution_count": 11,
   "metadata": {},
   "outputs": [
    {
     "name": "stdout",
     "output_type": "stream",
     "text": [
      "overall\n",
      "{'a': 8976, 'o': 5524, 'e': 5497, 'r': 3787, 's': 3676, 'i': 3598, 'n': 2823, 'l': 2783, 'u': 2501, 'c': 2391, 't': 2175, 'm': 1645, 'p': 1631, 'd': 1315, 'b': 1299, 'g': 1066, 'j': 814, 'f': 774, 'h': 768, 'v': 694, 'z': 624, 'y': 442, 'ñ': 374, 'x': 133, 'q': 116, 'k': 55, 'w': 14}\n",
      "1\n",
      "{'a': 1342, 'c': 1126, 'p': 887, 't': 765, 'm': 730, 'r': 645, 'b': 587, 's': 580, 'l': 551, 'f': 467, 'g': 409, 'o': 373, 'h': 370, 'd': 368, 'v': 340, 'n': 290, 'j': 283, 'e': 273, 'u': 179, 'i': 151, 'z': 150, 'y': 118, 'q': 49, 'ñ': 34, 'k': 20, 'w': 6, 'x': 6}\n",
      "2\n",
      "{'a': 2340, 'o': 1564, 'u': 1444, 'e': 1371, 'i': 1359, 'r': 750, 'l': 427, 'n': 211, 's': 190, 'h': 183, 'c': 158, 't': 149, 'm': 145, 'p': 136, 'b': 118, 'd': 92, 'v': 86, 'j': 68, 'f': 61, 'g': 58, 'z': 54, 'ñ': 52, 'x': 39, 'y': 33, 'q': 6, 'w': 3, 'k': 2}\n",
      "3\n",
      "{'r': 1095, 'l': 845, 'a': 834, 'i': 808, 'n': 780, 'e': 777, 'c': 639, 't': 594, 's': 583, 'u': 526, 'o': 490, 'm': 457, 'p': 366, 'b': 359, 'd': 349, 'g': 329, 'j': 272, 'ñ': 205, 'f': 174, 'z': 174, 'y': 136, 'v': 128, 'q': 61, 'h': 56, 'x': 53, 'k': 8, 'w': 1}\n",
      "4\n",
      "{'a': 1859, 'e': 1590, 'i': 981, 'o': 922, 'r': 657, 't': 627, 'l': 601, 'd': 474, 'c': 448, 'n': 398, 's': 336, 'u': 308, 'm': 297, 'g': 267, 'p': 237, 'b': 229, 'j': 185, 'z': 153, 'h': 149, 'v': 140, 'ñ': 83, 'f': 68, 'y': 64, 'k': 13, 'x': 9, 'w': 4}\n",
      "5\n",
      "{'a': 2601, 'o': 2175, 's': 1987, 'e': 1486, 'n': 1144, 'r': 640, 'l': 359, 'i': 299, 'z': 93, 'y': 91, 'u': 44, 't': 40, 'd': 32, 'x': 26, 'c': 20, 'm': 16, 'k': 12, 'h': 10, 'j': 6, 'b': 6, 'p': 5, 'f': 4, 'g': 3}\n"
     ]
    }
   ],
   "source": [
    "sorted_dict = {}\n",
    "\n",
    "for d_name, dictionary in count_dict.items():\n",
    "    sorted_dict[str(d_name)] = sort_dict(dictionary)\n",
    "    print(str(d_name))\n",
    "    print(sorted_dict[str(d_name)])"
   ]
  },
  {
   "cell_type": "code",
   "execution_count": 163,
   "metadata": {},
   "outputs": [
    {
     "data": {
      "text/plain": [
       "['asjof']"
      ]
     },
     "execution_count": 163,
     "metadata": {},
     "output_type": "execute_result"
    }
   ],
   "source": [
    "\"\"\"\n",
    "FILTER FUNCION\n",
    "Return the list of possible words which matches the filters:\n",
    "\t- raw_list : all the possible solutions of the wordle game\n",
    "\t- in_list : list of letters (string) that should be in the solution. default: empty list\n",
    "\t- not_l_list : list of letters (string) are NOT in the solution. default: empty list\n",
    "\t- first : first letter of the world. default: False\n",
    "\t- second : second letter of the world. default: False\n",
    "\t- third : third letter of the world. default: False\n",
    "\t- fourth : fourth letter of the world. default: False\n",
    "\t- fifth : fifth letter of the world. default: False\n",
    "\t- not_n_list : list of lists(strings) for each n position, of chars contained but not in the n position. default: empty list of lists\n",
    "\t- not_w_list : list of words which are not the solution. default: empty list\n",
    "\"\"\"\n",
    "def wordle_filter(raw_list, in_list=[], not_l_list='', first='.', second='.', third='.', fourth='.', fifth='.', not_n_list=[[], [], [], [], []], not_w_list=[]):\n",
    "\n",
    "\tfilt_list = raw_list\n",
    "\n",
    "\t# Check that NOT contain all not contained chars\n",
    "\tfor char in not_l_list:\n",
    "\t\tfilt_list = list(filter(re.compile(f\"[^{char}][^{char}][^{char}][^{char}][^{char}]\").match, filt_list))\n",
    "\n",
    "\t# Check that contain all contained chars\n",
    "\tfor char in in_list:\n",
    "\t\tfilt_list = list(filter(re.compile(f\".*[{char}]\").match, filt_list))\n",
    "\n",
    "\t# Check char in desires positions\n",
    "\tfilt_list = list(filter(re.compile(f\"{first}{second}{third}{fourth}{fifth}\").match, filt_list))\n",
    "\n",
    "\t# check char contianed, but not in this positions\n",
    "\tfor i in range(len(not_n_list)):\n",
    "\t\tfor char in not_n_list[i]:\n",
    "\t\t\tfilt_list = list(filter(re.compile('.'*i + '[^' + char + ']' + '.'*(4-i)).match, filt_list))\n",
    "\n",
    "\t#Clean of past try words\n",
    "\tfinal_list = [word for word in filt_list if word not in not_w_list]\n",
    "\n",
    "\treturn final_list\n",
    "\n",
    "wordle_filter(['holas', 'faaaa', 'xxxxx', 'assds', 'adafg', 'ishfg', 'añdvb' , 'ashfg', 'asjof', 'sajop', 'abjsh', 'abjsi'], in_list=['a', 's'], not_l_list=['h'], first='a', third='j', not_w_list=['abjsi'])"
   ]
  },
  {
   "cell_type": "code",
   "execution_count": 162,
   "metadata": {},
   "outputs": [
    {
     "name": "stdout",
     "output_type": "stream",
     "text": [
      "0\n",
      "1\n",
      "2\n"
     ]
    }
   ],
   "source": [
    "sample = 'a'\n",
    "string_sample = [['a', 'e'], ['e', 'o'], ['f', 'p']]\n",
    "\n",
    "for i in range(len(string_sample)):\n",
    "    print(i)"
   ]
  },
  {
   "cell_type": "code",
   "execution_count": 164,
   "metadata": {},
   "outputs": [
    {
     "data": {
      "text/plain": [
       "['cigua',\n",
       " 'diuca',\n",
       " 'hijua',\n",
       " 'iluda',\n",
       " 'ilusa',\n",
       " 'licua',\n",
       " 'ligua',\n",
       " 'liuda',\n",
       " 'nigua',\n",
       " 'pigua',\n",
       " 'pihua',\n",
       " 'piula',\n",
       " 'sigua',\n",
       " 'ubica',\n",
       " 'unica',\n",
       " 'unila',\n",
       " 'usila',\n",
       " 'usina',\n",
       " 'viuda']"
      ]
     },
     "execution_count": 164,
     "metadata": {},
     "output_type": "execute_result"
    }
   ],
   "source": [
    "wordle_filter(wordle_list, in_list=['a', 'u', 'i'], not_l_list=['t', 'r'], fifth='a', not_n_list=[[], ['u'], [], ['i'], []] , not_w_list=['turia'])"
   ]
  },
  {
   "cell_type": "code",
   "execution_count": 165,
   "metadata": {},
   "outputs": [
    {
     "data": {
      "text/plain": [
       "['cigua',\n",
       " 'diuca',\n",
       " 'hijua',\n",
       " 'nigua',\n",
       " 'pigua',\n",
       " 'pihua',\n",
       " 'ubica',\n",
       " 'unica',\n",
       " 'viuda']"
      ]
     },
     "execution_count": 165,
     "metadata": {},
     "output_type": "execute_result"
    }
   ],
   "source": [
    "wordle_filter(wordle_list, in_list=['a', 'u', 'i'], not_l_list=['t', 'r', 'm', 'o', 'l', 'e', 's'], fifth='a', not_n_list=[[], ['u'], [], ['i'], []], not_w_list=['turia', 'moles'])"
   ]
  },
  {
   "cell_type": "code",
   "execution_count": 166,
   "metadata": {},
   "outputs": [
    {
     "data": {
      "text/plain": [
       "['ubica', 'unica']"
      ]
     },
     "execution_count": 166,
     "metadata": {},
     "output_type": "execute_result"
    }
   ],
   "source": [
    "wordle_filter(wordle_list, in_list=['a', 'u', 'i'], not_l_list=['t', 'r', 'm', 'o', 'l', 'e', 's', 'v', 'd'], fifth='a', not_n_list=[[], ['u', 'i'], ['u'], ['i'], []], not_w_list=['turia', 'moles'])"
   ]
  },
  {
   "cell_type": "code",
   "execution_count": null,
   "metadata": {},
   "outputs": [],
   "source": []
  }
 ],
 "metadata": {
  "kernelspec": {
   "display_name": "Python 3.8.5 ('base')",
   "language": "python",
   "name": "python3"
  },
  "language_info": {
   "codemirror_mode": {
    "name": "ipython",
    "version": 3
   },
   "file_extension": ".py",
   "mimetype": "text/x-python",
   "name": "python",
   "nbconvert_exporter": "python",
   "pygments_lexer": "ipython3",
   "version": "3.8.5"
  },
  "orig_nbformat": 4,
  "vscode": {
   "interpreter": {
    "hash": "14b7dca5faed4131a3cb0f251ab15fa3168768bf6c6264a378d9f1d729e51fb7"
   }
  }
 },
 "nbformat": 4,
 "nbformat_minor": 2
}
