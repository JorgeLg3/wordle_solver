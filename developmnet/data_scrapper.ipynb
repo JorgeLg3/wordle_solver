{
 "cells": [
  {
   "cell_type": "code",
   "execution_count": 1,
   "metadata": {},
   "outputs": [],
   "source": [
    "import numpy as np\n",
    "import codecs\n",
    "import re\n",
    "import time"
   ]
  },
  {
   "cell_type": "code",
   "execution_count": 2,
   "metadata": {},
   "outputs": [
    {
     "name": "stdout",
     "output_type": "stream",
     "text": [
      "<codecs.StreamReaderWriter object at 0x000002296D0AC550>\n"
     ]
    }
   ],
   "source": [
    "with codecs.open('662-bb25e3a5783e4383.js', encoding='utf-8') as file_object:\n",
    "    for line in file_object:\n",
    "        print(file_object)"
   ]
  },
  {
   "cell_type": "code",
   "execution_count": 3,
   "metadata": {},
   "outputs": [],
   "source": [
    "raw_data = ''\n",
    "\n",
    "with codecs.open('662-bb25e3a5783e4383.js', encoding='utf-8') as f:\n",
    "   #lines = f.readlines()\n",
    "   for line in f:\n",
    "      raw_data = raw_data + str(line)\n",
    "\n",
    "#raw_data.encode('utf-8')\n",
    "#raw_data.encode(\"windows-1252\").decode(\"utf-8\")"
   ]
  },
  {
   "cell_type": "code",
   "execution_count": 4,
   "metadata": {},
   "outputs": [
    {
     "name": "stdout",
     "output_type": "stream",
     "text": [
      "['nieve', 'hueso', 'titan', 'flujo', 'disco', 'raz\\\\xf3n', 'mural', 'abril', 'vejez', 'falso', 'ca\\\\xf1\\\\xf3n', 'obeso', 'metal', 'avena', 'rubia']\n"
     ]
    }
   ],
   "source": [
    "rule = r'(?<=solution:\").+?(?=\",)'\n",
    "#r'.*?solution:\"(.*)\",encrypted:'\n",
    "res = re.findall(rule, raw_data)\n",
    "print(res[:15])"
   ]
  },
  {
   "cell_type": "code",
   "execution_count": 5,
   "metadata": {},
   "outputs": [
    {
     "name": "stdout",
     "output_type": "stream",
     "text": [
      "['nieve', 'hueso', 'titan', 'flujo', 'disco', 'razon', 'mural', 'abril', 'vejez', 'falso', 'cañon', 'obeso', 'metal', 'avena', 'rubia']\n"
     ]
    }
   ],
   "source": [
    "clean_list=[]\n",
    "for i, word in enumerate(res):\n",
    "    clean_list.append(word.replace('\\\\xf1', r'ñ').replace('\\\\xe1', r'a').replace('\\\\xe9', r'e').replace('\\\\xed', r'i').replace('\\\\xf3', r'o').replace('\\\\xfa', r'u'))\n",
    "print(clean_list[:15])"
   ]
  },
  {
   "cell_type": "code",
   "execution_count": 6,
   "metadata": {},
   "outputs": [],
   "source": [
    "import json\n",
    "name = 'wordle_clean_list.json'\n",
    "\n",
    "with open(name, \"w\") as fp:\n",
    "    json.dump(clean_list, fp)\n",
    "\n"
   ]
  },
  {
   "cell_type": "code",
   "execution_count": 7,
   "metadata": {},
   "outputs": [
    {
     "data": {
      "text/plain": [
       "864"
      ]
     },
     "execution_count": 7,
     "metadata": {},
     "output_type": "execute_result"
    }
   ],
   "source": [
    "len(clean_list)"
   ]
  },
  {
   "cell_type": "code",
   "execution_count": 9,
   "metadata": {},
   "outputs": [
    {
     "data": {
      "text/plain": [
       "321"
      ]
     },
     "execution_count": 9,
     "metadata": {},
     "output_type": "execute_result"
    }
   ],
   "source": [
    "clean_list.index(\"peral\")"
   ]
  },
  {
   "cell_type": "code",
   "execution_count": 10,
   "metadata": {},
   "outputs": [
    {
     "data": {
      "text/plain": [
       "322"
      ]
     },
     "execution_count": 10,
     "metadata": {},
     "output_type": "execute_result"
    }
   ],
   "source": [
    "clean_list.index(\"pulpa\")"
   ]
  },
  {
   "cell_type": "code",
   "execution_count": 11,
   "metadata": {},
   "outputs": [
    {
     "data": {
      "text/plain": [
       "323"
      ]
     },
     "execution_count": 11,
     "metadata": {},
     "output_type": "execute_result"
    }
   ],
   "source": [
    "clean_list.index(\"gripe\")"
   ]
  },
  {
   "cell_type": "code",
   "execution_count": 12,
   "metadata": {},
   "outputs": [
    {
     "data": {
      "text/plain": [
       "244"
      ]
     },
     "execution_count": 12,
     "metadata": {},
     "output_type": "execute_result"
    }
   ],
   "source": [
    "clean_list.index(\"libro\")"
   ]
  },
  {
   "cell_type": "code",
   "execution_count": null,
   "metadata": {},
   "outputs": [],
   "source": []
  }
 ],
 "metadata": {
  "kernelspec": {
   "display_name": "Python 3.10.7 ('.venv': venv)",
   "language": "python",
   "name": "python3"
  },
  "language_info": {
   "codemirror_mode": {
    "name": "ipython",
    "version": 3
   },
   "file_extension": ".py",
   "mimetype": "text/x-python",
   "name": "python",
   "nbconvert_exporter": "python",
   "pygments_lexer": "ipython3",
   "version": "3.10.7"
  },
  "orig_nbformat": 4,
  "vscode": {
   "interpreter": {
    "hash": "8dea0f197f4c966ec2c9255e55faff029fecc0478e1d4a14b9cd9d3d8c7d5bcb"
   }
  }
 },
 "nbformat": 4,
 "nbformat_minor": 2
}
